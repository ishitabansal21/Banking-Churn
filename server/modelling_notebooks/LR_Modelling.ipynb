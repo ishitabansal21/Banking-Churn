{
 "cells": [
  {
   "cell_type": "code",
   "execution_count": 1,
   "metadata": {},
   "outputs": [],
   "source": [
    "# !pip install imblearn\n",
    "\n",
    "import os\n",
    "\n",
    "import pandas as pd\n",
    "import numpy as np\n",
    "\n",
    "# store elements as dictionary keys and their counts as dictionary values\n",
    "from collections import Counter\n",
    "\n",
    "# scikit-learn\n",
    "from sklearn.model_selection import train_test_split\n",
    "\n",
    "from sklearn.preprocessing import MinMaxScaler, OneHotEncoder, LabelEncoder\n",
    "from sklearn.compose import ColumnTransformer, make_column_transformer\n",
    "from sklearn.pipeline import make_pipeline\n",
    "\n",
    "# Classification metrics\n",
    "from sklearn.metrics import confusion_matrix, classification_report\n",
    "\n",
    "# Function for creating model pipelines - sklearn\n",
    "from sklearn.pipeline import make_pipeline\n",
    "\n",
    "# Function for creating model pipelines - imblearn\n",
    "from imblearn.pipeline import make_pipeline as imbl_pipe\n",
    "\n",
    "# Over-sampling using SMOTE\n",
    "from imblearn.over_sampling import SMOTE\n"
   ]
  },
  {
   "cell_type": "code",
   "execution_count": 2,
   "metadata": {},
   "outputs": [
    {
     "data": {
      "text/html": [
       "<div>\n",
       "<style scoped>\n",
       "    .dataframe tbody tr th:only-of-type {\n",
       "        vertical-align: middle;\n",
       "    }\n",
       "\n",
       "    .dataframe tbody tr th {\n",
       "        vertical-align: top;\n",
       "    }\n",
       "\n",
       "    .dataframe thead th {\n",
       "        text-align: right;\n",
       "    }\n",
       "</style>\n",
       "<table border=\"1\" class=\"dataframe\">\n",
       "  <thead>\n",
       "    <tr style=\"text-align: right;\">\n",
       "      <th></th>\n",
       "      <th>CreditScore</th>\n",
       "      <th>Geography</th>\n",
       "      <th>Gender</th>\n",
       "      <th>Age</th>\n",
       "      <th>Tenure</th>\n",
       "      <th>Balance</th>\n",
       "      <th>NumOfProducts</th>\n",
       "      <th>HasCrCard</th>\n",
       "      <th>IsActiveMember</th>\n",
       "      <th>EstimatedSalary</th>\n",
       "      <th>Exited</th>\n",
       "    </tr>\n",
       "  </thead>\n",
       "  <tbody>\n",
       "    <tr>\n",
       "      <th>0</th>\n",
       "      <td>619</td>\n",
       "      <td>France</td>\n",
       "      <td>Female</td>\n",
       "      <td>42</td>\n",
       "      <td>2</td>\n",
       "      <td>0.00</td>\n",
       "      <td>1</td>\n",
       "      <td>1</td>\n",
       "      <td>1</td>\n",
       "      <td>101348.88</td>\n",
       "      <td>1</td>\n",
       "    </tr>\n",
       "    <tr>\n",
       "      <th>1</th>\n",
       "      <td>608</td>\n",
       "      <td>Spain</td>\n",
       "      <td>Female</td>\n",
       "      <td>41</td>\n",
       "      <td>1</td>\n",
       "      <td>83807.86</td>\n",
       "      <td>1</td>\n",
       "      <td>0</td>\n",
       "      <td>1</td>\n",
       "      <td>112542.58</td>\n",
       "      <td>0</td>\n",
       "    </tr>\n",
       "    <tr>\n",
       "      <th>2</th>\n",
       "      <td>502</td>\n",
       "      <td>France</td>\n",
       "      <td>Female</td>\n",
       "      <td>42</td>\n",
       "      <td>8</td>\n",
       "      <td>159660.80</td>\n",
       "      <td>3</td>\n",
       "      <td>1</td>\n",
       "      <td>0</td>\n",
       "      <td>113931.57</td>\n",
       "      <td>1</td>\n",
       "    </tr>\n",
       "    <tr>\n",
       "      <th>3</th>\n",
       "      <td>699</td>\n",
       "      <td>France</td>\n",
       "      <td>Female</td>\n",
       "      <td>39</td>\n",
       "      <td>1</td>\n",
       "      <td>0.00</td>\n",
       "      <td>2</td>\n",
       "      <td>0</td>\n",
       "      <td>0</td>\n",
       "      <td>93826.63</td>\n",
       "      <td>0</td>\n",
       "    </tr>\n",
       "    <tr>\n",
       "      <th>4</th>\n",
       "      <td>850</td>\n",
       "      <td>Spain</td>\n",
       "      <td>Female</td>\n",
       "      <td>43</td>\n",
       "      <td>2</td>\n",
       "      <td>125510.82</td>\n",
       "      <td>1</td>\n",
       "      <td>1</td>\n",
       "      <td>1</td>\n",
       "      <td>79084.10</td>\n",
       "      <td>0</td>\n",
       "    </tr>\n",
       "  </tbody>\n",
       "</table>\n",
       "</div>"
      ],
      "text/plain": [
       "   CreditScore Geography  Gender  Age  Tenure    Balance  NumOfProducts  \\\n",
       "0          619    France  Female   42       2       0.00              1   \n",
       "1          608     Spain  Female   41       1   83807.86              1   \n",
       "2          502    France  Female   42       8  159660.80              3   \n",
       "3          699    France  Female   39       1       0.00              2   \n",
       "4          850     Spain  Female   43       2  125510.82              1   \n",
       "\n",
       "   HasCrCard  IsActiveMember  EstimatedSalary  Exited  \n",
       "0          1               1        101348.88       1  \n",
       "1          0               1        112542.58       0  \n",
       "2          1               0        113931.57       1  \n",
       "3          0               0         93826.63       0  \n",
       "4          1               1         79084.10       0  "
      ]
     },
     "execution_count": 2,
     "metadata": {},
     "output_type": "execute_result"
    }
   ],
   "source": [
    "abt = pd.read_csv(\"../Resources/analytical_base_table.csv\")\n",
    "abt.head()"
   ]
  },
  {
   "cell_type": "markdown",
   "metadata": {},
   "source": [
    "## Models Training"
   ]
  },
  {
   "cell_type": "markdown",
   "metadata": {},
   "source": [
    "## Let's start by splitting our dataframe into separate objects:\n",
    "\n",
    "y for the target varibale\n",
    "\n",
    "X for the input features"
   ]
  },
  {
   "cell_type": "code",
   "execution_count": 3,
   "metadata": {},
   "outputs": [
    {
     "name": "stdout",
     "output_type": "stream",
     "text": [
      "(10000, 10) (10000,)\n"
     ]
    }
   ],
   "source": [
    "#Separate dataframe into separate object\n",
    "\n",
    "# Object for target variable\n",
    "y = abt.Exited\n",
    "\n",
    "# object for input features\n",
    "X = abt.drop(['Exited'], axis=1)\n",
    "\n",
    "# display shapes of X and y\n",
    "print(X.shape, y.shape)\n"
   ]
  },
  {
   "cell_type": "code",
   "execution_count": 4,
   "metadata": {},
   "outputs": [
    {
     "data": {
      "text/plain": [
       "['CreditScore',\n",
       " 'Age',\n",
       " 'Tenure',\n",
       " 'Balance',\n",
       " 'NumOfProducts',\n",
       " 'HasCrCard',\n",
       " 'IsActiveMember',\n",
       " 'EstimatedSalary']"
      ]
     },
     "execution_count": 4,
     "metadata": {},
     "output_type": "execute_result"
    }
   ],
   "source": [
    "# List numerical features\n",
    "num_columns = X.select_dtypes(include='number').columns.tolist()\n",
    "num_columns"
   ]
  },
  {
   "cell_type": "code",
   "execution_count": 5,
   "metadata": {},
   "outputs": [
    {
     "data": {
      "text/plain": [
       "['Geography', 'Gender']"
      ]
     },
     "execution_count": 5,
     "metadata": {},
     "output_type": "execute_result"
    }
   ],
   "source": [
    "# List categorical features\n",
    "cat_columns = X.select_dtypes(include='object').columns.tolist()\n",
    "cat_columns"
   ]
  },
  {
   "cell_type": "code",
   "execution_count": 6,
   "metadata": {},
   "outputs": [],
   "source": [
    "def class_count(a):\n",
    "    counter=Counter(a)\n",
    "    kv=[list(counter.keys()),list(counter.values())]\n",
    "    abt2 = pd.DataFrame(np.array(kv).T, columns=['Exited','Count'])\n",
    "    abt2['Count'] = abt2['Count'].astype('int64')\n",
    "    abt2['%'] = round(abt2['Count'] / a.shape[0] * 100, 2)\n",
    "    return abt2.sort_values('Count',ascending=False)"
   ]
  },
  {
   "cell_type": "code",
   "execution_count": 7,
   "metadata": {},
   "outputs": [
    {
     "data": {
      "text/html": [
       "<div>\n",
       "<style scoped>\n",
       "    .dataframe tbody tr th:only-of-type {\n",
       "        vertical-align: middle;\n",
       "    }\n",
       "\n",
       "    .dataframe tbody tr th {\n",
       "        vertical-align: top;\n",
       "    }\n",
       "\n",
       "    .dataframe thead th {\n",
       "        text-align: right;\n",
       "    }\n",
       "</style>\n",
       "<table border=\"1\" class=\"dataframe\">\n",
       "  <thead>\n",
       "    <tr style=\"text-align: right;\">\n",
       "      <th></th>\n",
       "      <th>Exited</th>\n",
       "      <th>Count</th>\n",
       "      <th>%</th>\n",
       "    </tr>\n",
       "  </thead>\n",
       "  <tbody>\n",
       "    <tr>\n",
       "      <th>1</th>\n",
       "      <td>0</td>\n",
       "      <td>7963</td>\n",
       "      <td>79.63</td>\n",
       "    </tr>\n",
       "    <tr>\n",
       "      <th>0</th>\n",
       "      <td>1</td>\n",
       "      <td>2037</td>\n",
       "      <td>20.37</td>\n",
       "    </tr>\n",
       "  </tbody>\n",
       "</table>\n",
       "</div>"
      ],
      "text/plain": [
       "   Exited  Count      %\n",
       "1       0   7963  79.63\n",
       "0       1   2037  20.37"
      ]
     },
     "execution_count": 7,
     "metadata": {},
     "output_type": "execute_result"
    }
   ],
   "source": [
    "class_count(y)\n"
   ]
  },
  {
   "cell_type": "markdown",
   "metadata": {},
   "source": [
    "## Create a Train Test Split\n",
    "\n",
    "We will continue with splitting our data into separate training and test sets.\n",
    "\n",
    "30% of observations will be set aside for the test set\n",
    "\n",
    "the rest, 70%, will be used as the training set"
   ]
  },
  {
   "cell_type": "code",
   "execution_count": 8,
   "metadata": {},
   "outputs": [
    {
     "name": "stdout",
     "output_type": "stream",
     "text": [
      "7000 3000 7000 3000\n"
     ]
    }
   ],
   "source": [
    "random_state = 10\n",
    "\n",
    "# Split X and y into train and test sets\n",
    "X_train, X_test, y_train, y_test = train_test_split(X, y,\n",
    "                                                    test_size=0.3,\n",
    "                                                    random_state=random_state,\n",
    "                                                    stratify=abt.Exited)\n",
    "\n",
    "# Print number of observations in X_train, X_test, y_train, and y_test\n",
    "print(len(X_train), len(X_test), len(y_train), len(y_test))"
   ]
  },
  {
   "cell_type": "code",
   "execution_count": 9,
   "metadata": {},
   "outputs": [
    {
     "name": "stdout",
     "output_type": "stream",
     "text": [
      "<class 'pandas.core.frame.DataFrame'>\n",
      "Index: 7000 entries, 8061 to 4741\n",
      "Data columns (total 10 columns):\n",
      " #   Column           Non-Null Count  Dtype  \n",
      "---  ------           --------------  -----  \n",
      " 0   CreditScore      7000 non-null   int64  \n",
      " 1   Geography        7000 non-null   object \n",
      " 2   Gender           7000 non-null   object \n",
      " 3   Age              7000 non-null   int64  \n",
      " 4   Tenure           7000 non-null   int64  \n",
      " 5   Balance          7000 non-null   float64\n",
      " 6   NumOfProducts    7000 non-null   int64  \n",
      " 7   HasCrCard        7000 non-null   int64  \n",
      " 8   IsActiveMember   7000 non-null   int64  \n",
      " 9   EstimatedSalary  7000 non-null   float64\n",
      "dtypes: float64(2), int64(6), object(2)\n",
      "memory usage: 601.6+ KB\n"
     ]
    }
   ],
   "source": [
    "X_train.info()"
   ]
  },
  {
   "cell_type": "markdown",
   "metadata": {},
   "source": [
    "## Pre-processing Pipeline\n",
    " \n",
    " ##Scale numerical data and encode categorical data\n",
    "Construct a pre-processing pipeline from the given transformers: MinMaxScaler and OneHotEncoder Create lists of indexes from the list of column namesNeed to be numeric not string to specify columns name in column transformer"
   ]
  },
  {
   "cell_type": "code",
   "execution_count": 10,
   "metadata": {},
   "outputs": [
    {
     "name": "stdout",
     "output_type": "stream",
     "text": [
      "[0, 3, 4, 5, 6, 7, 8, 9]\n"
     ]
    }
   ],
   "source": [
    "num_features = [] \n",
    "\n",
    "for i in num_columns:\n",
    "    location = X.columns.get_loc(i)\n",
    "    num_features.append(location)\n",
    "print(num_features)  "
   ]
  },
  {
   "cell_type": "code",
   "execution_count": 11,
   "metadata": {},
   "outputs": [
    {
     "name": "stdout",
     "output_type": "stream",
     "text": [
      "[1, 2]\n"
     ]
    }
   ],
   "source": [
    "cat_features = []\n",
    "\n",
    "for i in cat_columns:\n",
    "    location = X.columns.get_loc(i)\n",
    "    cat_features.append(location)\n",
    "print(cat_features) "
   ]
  },
  {
   "cell_type": "code",
   "execution_count": 12,
   "metadata": {},
   "outputs": [
    {
     "data": {
      "text/plain": [
       "ColumnTransformer(transformers=[('minmaxscaler', MinMaxScaler(),\n",
       "                                 [0, 3, 4, 5, 6, 7, 8, 9]),\n",
       "                                ('onehotencoder', OneHotEncoder(sparse=False),\n",
       "                                 [1, 2])])"
      ]
     },
     "execution_count": 12,
     "metadata": {},
     "output_type": "execute_result"
    }
   ],
   "source": [
    "# Define column transformer\n",
    "# Need to be numeric not string to specify columns name \n",
    "preprocess = make_column_transformer(\n",
    "    (MinMaxScaler(), num_features),\n",
    "    (OneHotEncoder(sparse=False), cat_features)\n",
    ")\n",
    "preprocess"
   ]
  },
  {
   "cell_type": "code",
   "execution_count": 13,
   "metadata": {},
   "outputs": [
    {
     "data": {
      "text/plain": [
       "Pipeline(steps=[('columntransformer',\n",
       "                 ColumnTransformer(transformers=[('minmaxscaler',\n",
       "                                                  MinMaxScaler(),\n",
       "                                                  [0, 3, 4, 5, 6, 7, 8, 9]),\n",
       "                                                 ('onehotencoder',\n",
       "                                                  OneHotEncoder(sparse=False),\n",
       "                                                  [1, 2])])),\n",
       "                ('smote', SMOTE(random_state=10)),\n",
       "                ('logisticregression', LogisticRegression(random_state=10))])"
      ]
     },
     "execution_count": 13,
     "metadata": {},
     "output_type": "execute_result"
    }
   ],
   "source": [
    "# Import classifier\n",
    "from sklearn.linear_model import LogisticRegression \n",
    "\n",
    "# Define model with pipeline\n",
    "model = imbl_pipe(preprocess,\n",
    "                  SMOTE(sampling_strategy='auto', random_state=random_state),\n",
    "                  LogisticRegression(random_state=random_state))\n",
    "\n",
    "model"
   ]
  },
  {
   "cell_type": "code",
   "execution_count": 14,
   "metadata": {},
   "outputs": [],
   "source": [
    " # Create the GridSearchCV model\n",
    "# Create the GridSearch estimator along with a parameter object containing the values to adjust\n",
    "from sklearn.model_selection import GridSearchCV\n",
    "lr_param_grid = {\n",
    "    'logisticregression__C' : [0.01, 0.05, 0.1, 0.5, 1, 5],\n",
    "    'logisticregression__solver' : ['liblinear', 'newton-cg', 'lbfgs', 'sag', 'saga']\n",
    "}\n",
    "\n",
    "lr_grid = GridSearchCV(model, lr_param_grid, verbose=3, cv= 5, scoring='accuracy')"
   ]
  },
  {
   "cell_type": "code",
   "execution_count": 15,
   "metadata": {},
   "outputs": [],
   "source": [
    "X_train = X_train.values\n",
    "X_test = X_test.values"
   ]
  },
  {
   "cell_type": "code",
   "execution_count": 16,
   "metadata": {
    "scrolled": true,
    "tags": []
   },
   "outputs": [
    {
     "name": "stdout",
     "output_type": "stream",
     "text": [
      "Fitting 5 folds for each of 30 candidates, totalling 150 fits\n",
      "[CV 1/5] END logisticregression__C=0.01, logisticregression__solver=liblinear;, score=0.663 total time=   0.0s\n",
      "[CV 2/5] END logisticregression__C=0.01, logisticregression__solver=liblinear;, score=0.685 total time=   0.0s\n",
      "[CV 3/5] END logisticregression__C=0.01, logisticregression__solver=liblinear;, score=0.681 total time=   0.0s\n",
      "[CV 4/5] END logisticregression__C=0.01, logisticregression__solver=liblinear;, score=0.688 total time=   0.0s\n",
      "[CV 5/5] END logisticregression__C=0.01, logisticregression__solver=liblinear;, score=0.687 total time=   0.0s\n",
      "[CV 1/5] END logisticregression__C=0.01, logisticregression__solver=newton-cg;, score=0.663 total time=   0.0s\n",
      "[CV 2/5] END logisticregression__C=0.01, logisticregression__solver=newton-cg;, score=0.686 total time=   0.0s\n",
      "[CV 3/5] END logisticregression__C=0.01, logisticregression__solver=newton-cg;, score=0.680 total time=   0.1s\n",
      "[CV 4/5] END logisticregression__C=0.01, logisticregression__solver=newton-cg;, score=0.688 total time=   0.0s\n",
      "[CV 5/5] END logisticregression__C=0.01, logisticregression__solver=newton-cg;, score=0.689 total time=   0.0s\n",
      "[CV 1/5] END logisticregression__C=0.01, logisticregression__solver=lbfgs;, score=0.663 total time=   0.0s\n",
      "[CV 2/5] END logisticregression__C=0.01, logisticregression__solver=lbfgs;, score=0.686 total time=   0.0s\n",
      "[CV 3/5] END logisticregression__C=0.01, logisticregression__solver=lbfgs;, score=0.680 total time=   0.0s\n",
      "[CV 4/5] END logisticregression__C=0.01, logisticregression__solver=lbfgs;, score=0.688 total time=   0.0s\n",
      "[CV 5/5] END logisticregression__C=0.01, logisticregression__solver=lbfgs;, score=0.689 total time=   0.0s\n",
      "[CV 1/5] END logisticregression__C=0.01, logisticregression__solver=sag;, score=0.663 total time=   0.0s\n",
      "[CV 2/5] END logisticregression__C=0.01, logisticregression__solver=sag;, score=0.686 total time=   0.0s\n",
      "[CV 3/5] END logisticregression__C=0.01, logisticregression__solver=sag;, score=0.680 total time=   0.0s\n",
      "[CV 4/5] END logisticregression__C=0.01, logisticregression__solver=sag;, score=0.688 total time=   0.0s\n",
      "[CV 5/5] END logisticregression__C=0.01, logisticregression__solver=sag;, score=0.689 total time=   0.0s\n",
      "[CV 1/5] END logisticregression__C=0.01, logisticregression__solver=saga;, score=0.663 total time=   0.0s\n",
      "[CV 2/5] END logisticregression__C=0.01, logisticregression__solver=saga;, score=0.686 total time=   0.0s\n",
      "[CV 3/5] END logisticregression__C=0.01, logisticregression__solver=saga;, score=0.680 total time=   0.0s\n",
      "[CV 4/5] END logisticregression__C=0.01, logisticregression__solver=saga;, score=0.688 total time=   0.0s\n",
      "[CV 5/5] END logisticregression__C=0.01, logisticregression__solver=saga;, score=0.689 total time=   0.0s\n",
      "[CV 1/5] END logisticregression__C=0.05, logisticregression__solver=liblinear;, score=0.689 total time=   0.0s\n",
      "[CV 2/5] END logisticregression__C=0.05, logisticregression__solver=liblinear;, score=0.704 total time=   0.0s\n",
      "[CV 3/5] END logisticregression__C=0.05, logisticregression__solver=liblinear;, score=0.706 total time=   0.0s\n",
      "[CV 4/5] END logisticregression__C=0.05, logisticregression__solver=liblinear;, score=0.697 total time=   0.0s\n",
      "[CV 5/5] END logisticregression__C=0.05, logisticregression__solver=liblinear;, score=0.710 total time=   0.0s\n",
      "[CV 1/5] END logisticregression__C=0.05, logisticregression__solver=newton-cg;, score=0.689 total time=   0.0s\n",
      "[CV 2/5] END logisticregression__C=0.05, logisticregression__solver=newton-cg;, score=0.704 total time=   0.1s\n",
      "[CV 3/5] END logisticregression__C=0.05, logisticregression__solver=newton-cg;, score=0.709 total time=   0.0s\n",
      "[CV 4/5] END logisticregression__C=0.05, logisticregression__solver=newton-cg;, score=0.697 total time=   0.0s\n",
      "[CV 5/5] END logisticregression__C=0.05, logisticregression__solver=newton-cg;, score=0.714 total time=   0.0s\n",
      "[CV 1/5] END logisticregression__C=0.05, logisticregression__solver=lbfgs;, score=0.689 total time=   0.0s\n",
      "[CV 2/5] END logisticregression__C=0.05, logisticregression__solver=lbfgs;, score=0.704 total time=   0.0s\n",
      "[CV 3/5] END logisticregression__C=0.05, logisticregression__solver=lbfgs;, score=0.709 total time=   0.0s\n",
      "[CV 4/5] END logisticregression__C=0.05, logisticregression__solver=lbfgs;, score=0.697 total time=   0.0s\n",
      "[CV 5/5] END logisticregression__C=0.05, logisticregression__solver=lbfgs;, score=0.714 total time=   0.0s\n",
      "[CV 1/5] END logisticregression__C=0.05, logisticregression__solver=sag;, score=0.690 total time=   0.0s\n",
      "[CV 2/5] END logisticregression__C=0.05, logisticregression__solver=sag;, score=0.704 total time=   0.0s\n",
      "[CV 3/5] END logisticregression__C=0.05, logisticregression__solver=sag;, score=0.709 total time=   0.0s\n",
      "[CV 4/5] END logisticregression__C=0.05, logisticregression__solver=sag;, score=0.697 total time=   0.0s\n",
      "[CV 5/5] END logisticregression__C=0.05, logisticregression__solver=sag;, score=0.714 total time=   0.0s\n",
      "[CV 1/5] END logisticregression__C=0.05, logisticregression__solver=saga;, score=0.689 total time=   0.0s\n",
      "[CV 2/5] END logisticregression__C=0.05, logisticregression__solver=saga;, score=0.704 total time=   0.0s\n",
      "[CV 3/5] END logisticregression__C=0.05, logisticregression__solver=saga;, score=0.709 total time=   0.0s\n",
      "[CV 4/5] END logisticregression__C=0.05, logisticregression__solver=saga;, score=0.697 total time=   0.0s\n",
      "[CV 5/5] END logisticregression__C=0.05, logisticregression__solver=saga;, score=0.714 total time=   0.0s\n",
      "[CV 1/5] END logisticregression__C=0.1, logisticregression__solver=liblinear;, score=0.702 total time=   0.0s\n",
      "[CV 2/5] END logisticregression__C=0.1, logisticregression__solver=liblinear;, score=0.704 total time=   0.0s\n",
      "[CV 3/5] END logisticregression__C=0.1, logisticregression__solver=liblinear;, score=0.716 total time=   0.0s\n",
      "[CV 4/5] END logisticregression__C=0.1, logisticregression__solver=liblinear;, score=0.706 total time=   0.0s\n",
      "[CV 5/5] END logisticregression__C=0.1, logisticregression__solver=liblinear;, score=0.722 total time=   0.0s\n",
      "[CV 1/5] END logisticregression__C=0.1, logisticregression__solver=newton-cg;, score=0.706 total time=   0.0s\n",
      "[CV 2/5] END logisticregression__C=0.1, logisticregression__solver=newton-cg;, score=0.706 total time=   0.0s\n",
      "[CV 3/5] END logisticregression__C=0.1, logisticregression__solver=newton-cg;, score=0.716 total time=   0.0s\n",
      "[CV 4/5] END logisticregression__C=0.1, logisticregression__solver=newton-cg;, score=0.707 total time=   0.0s\n",
      "[CV 5/5] END logisticregression__C=0.1, logisticregression__solver=newton-cg;, score=0.722 total time=   0.1s\n",
      "[CV 1/5] END logisticregression__C=0.1, logisticregression__solver=lbfgs;, score=0.706 total time=   0.0s\n",
      "[CV 2/5] END logisticregression__C=0.1, logisticregression__solver=lbfgs;, score=0.706 total time=   0.0s\n",
      "[CV 3/5] END logisticregression__C=0.1, logisticregression__solver=lbfgs;, score=0.716 total time=   0.0s\n",
      "[CV 4/5] END logisticregression__C=0.1, logisticregression__solver=lbfgs;, score=0.707 total time=   0.0s\n",
      "[CV 5/5] END logisticregression__C=0.1, logisticregression__solver=lbfgs;, score=0.722 total time=   0.0s\n",
      "[CV 1/5] END logisticregression__C=0.1, logisticregression__solver=sag;, score=0.706 total time=   0.0s\n",
      "[CV 2/5] END logisticregression__C=0.1, logisticregression__solver=sag;, score=0.706 total time=   0.0s\n",
      "[CV 3/5] END logisticregression__C=0.1, logisticregression__solver=sag;, score=0.716 total time=   0.0s\n",
      "[CV 4/5] END logisticregression__C=0.1, logisticregression__solver=sag;, score=0.707 total time=   0.0s\n",
      "[CV 5/5] END logisticregression__C=0.1, logisticregression__solver=sag;, score=0.722 total time=   0.0s\n",
      "[CV 1/5] END logisticregression__C=0.1, logisticregression__solver=saga;, score=0.706 total time=   0.0s\n",
      "[CV 2/5] END logisticregression__C=0.1, logisticregression__solver=saga;, score=0.706 total time=   0.0s\n",
      "[CV 3/5] END logisticregression__C=0.1, logisticregression__solver=saga;, score=0.716 total time=   0.0s\n",
      "[CV 4/5] END logisticregression__C=0.1, logisticregression__solver=saga;, score=0.707 total time=   0.0s\n",
      "[CV 5/5] END logisticregression__C=0.1, logisticregression__solver=saga;, score=0.721 total time=   0.0s\n",
      "[CV 1/5] END logisticregression__C=0.5, logisticregression__solver=liblinear;, score=0.714 total time=   0.0s\n",
      "[CV 2/5] END logisticregression__C=0.5, logisticregression__solver=liblinear;, score=0.712 total time=   0.0s\n",
      "[CV 3/5] END logisticregression__C=0.5, logisticregression__solver=liblinear;, score=0.719 total time=   0.0s\n",
      "[CV 4/5] END logisticregression__C=0.5, logisticregression__solver=liblinear;, score=0.714 total time=   0.0s\n",
      "[CV 5/5] END logisticregression__C=0.5, logisticregression__solver=liblinear;, score=0.727 total time=   0.0s\n",
      "[CV 1/5] END logisticregression__C=0.5, logisticregression__solver=newton-cg;, score=0.714 total time=   0.0s\n",
      "[CV 2/5] END logisticregression__C=0.5, logisticregression__solver=newton-cg;, score=0.711 total time=   0.0s\n",
      "[CV 3/5] END logisticregression__C=0.5, logisticregression__solver=newton-cg;, score=0.720 total time=   0.0s\n",
      "[CV 4/5] END logisticregression__C=0.5, logisticregression__solver=newton-cg;, score=0.716 total time=   0.1s\n",
      "[CV 5/5] END logisticregression__C=0.5, logisticregression__solver=newton-cg;, score=0.729 total time=   0.0s\n",
      "[CV 1/5] END logisticregression__C=0.5, logisticregression__solver=lbfgs;, score=0.714 total time=   0.0s\n",
      "[CV 2/5] END logisticregression__C=0.5, logisticregression__solver=lbfgs;, score=0.711 total time=   0.0s\n",
      "[CV 3/5] END logisticregression__C=0.5, logisticregression__solver=lbfgs;, score=0.720 total time=   0.0s\n",
      "[CV 4/5] END logisticregression__C=0.5, logisticregression__solver=lbfgs;, score=0.716 total time=   0.0s\n",
      "[CV 5/5] END logisticregression__C=0.5, logisticregression__solver=lbfgs;, score=0.729 total time=   0.0s\n",
      "[CV 1/5] END logisticregression__C=0.5, logisticregression__solver=sag;, score=0.714 total time=   0.0s\n",
      "[CV 2/5] END logisticregression__C=0.5, logisticregression__solver=sag;, score=0.711 total time=   0.0s\n",
      "[CV 3/5] END logisticregression__C=0.5, logisticregression__solver=sag;, score=0.720 total time=   0.0s\n",
      "[CV 4/5] END logisticregression__C=0.5, logisticregression__solver=sag;, score=0.716 total time=   0.0s\n",
      "[CV 5/5] END logisticregression__C=0.5, logisticregression__solver=sag;, score=0.729 total time=   0.0s\n",
      "[CV 1/5] END logisticregression__C=0.5, logisticregression__solver=saga;, score=0.714 total time=   0.0s\n",
      "[CV 2/5] END logisticregression__C=0.5, logisticregression__solver=saga;, score=0.711 total time=   0.0s\n",
      "[CV 3/5] END logisticregression__C=0.5, logisticregression__solver=saga;, score=0.720 total time=   0.0s\n",
      "[CV 4/5] END logisticregression__C=0.5, logisticregression__solver=saga;, score=0.716 total time=   0.0s\n",
      "[CV 5/5] END logisticregression__C=0.5, logisticregression__solver=saga;, score=0.729 total time=   0.0s\n",
      "[CV 1/5] END logisticregression__C=1, logisticregression__solver=liblinear;, score=0.718 total time=   0.0s\n",
      "[CV 2/5] END logisticregression__C=1, logisticregression__solver=liblinear;, score=0.712 total time=   0.0s\n",
      "[CV 3/5] END logisticregression__C=1, logisticregression__solver=liblinear;, score=0.720 total time=   0.0s\n",
      "[CV 4/5] END logisticregression__C=1, logisticregression__solver=liblinear;, score=0.716 total time=   0.0s\n",
      "[CV 5/5] END logisticregression__C=1, logisticregression__solver=liblinear;, score=0.729 total time=   0.0s\n",
      "[CV 1/5] END logisticregression__C=1, logisticregression__solver=newton-cg;, score=0.718 total time=   0.0s\n",
      "[CV 2/5] END logisticregression__C=1, logisticregression__solver=newton-cg;, score=0.712 total time=   0.0s\n",
      "[CV 3/5] END logisticregression__C=1, logisticregression__solver=newton-cg;, score=0.719 total time=   0.0s\n",
      "[CV 4/5] END logisticregression__C=1, logisticregression__solver=newton-cg;, score=0.716 total time=   0.1s\n",
      "[CV 5/5] END logisticregression__C=1, logisticregression__solver=newton-cg;, score=0.729 total time=   0.0s\n",
      "[CV 1/5] END logisticregression__C=1, logisticregression__solver=lbfgs;, score=0.718 total time=   0.0s\n",
      "[CV 2/5] END logisticregression__C=1, logisticregression__solver=lbfgs;, score=0.712 total time=   0.0s\n",
      "[CV 3/5] END logisticregression__C=1, logisticregression__solver=lbfgs;, score=0.719 total time=   0.0s\n",
      "[CV 4/5] END logisticregression__C=1, logisticregression__solver=lbfgs;, score=0.716 total time=   0.0s\n",
      "[CV 5/5] END logisticregression__C=1, logisticregression__solver=lbfgs;, score=0.729 total time=   0.0s\n",
      "[CV 1/5] END logisticregression__C=1, logisticregression__solver=sag;, score=0.718 total time=   0.0s\n",
      "[CV 2/5] END logisticregression__C=1, logisticregression__solver=sag;, score=0.712 total time=   0.0s\n",
      "[CV 3/5] END logisticregression__C=1, logisticregression__solver=sag;, score=0.719 total time=   0.0s\n",
      "[CV 4/5] END logisticregression__C=1, logisticregression__solver=sag;, score=0.716 total time=   0.0s\n",
      "[CV 5/5] END logisticregression__C=1, logisticregression__solver=sag;, score=0.729 total time=   0.0s\n",
      "[CV 1/5] END logisticregression__C=1, logisticregression__solver=saga;, score=0.718 total time=   0.1s\n",
      "[CV 2/5] END logisticregression__C=1, logisticregression__solver=saga;, score=0.712 total time=   0.1s\n",
      "[CV 3/5] END logisticregression__C=1, logisticregression__solver=saga;, score=0.719 total time=   0.1s\n",
      "[CV 4/5] END logisticregression__C=1, logisticregression__solver=saga;, score=0.716 total time=   0.1s\n",
      "[CV 5/5] END logisticregression__C=1, logisticregression__solver=saga;, score=0.729 total time=   0.1s\n",
      "[CV 1/5] END logisticregression__C=5, logisticregression__solver=liblinear;, score=0.718 total time=   0.0s\n",
      "[CV 2/5] END logisticregression__C=5, logisticregression__solver=liblinear;, score=0.713 total time=   0.0s\n",
      "[CV 3/5] END logisticregression__C=5, logisticregression__solver=liblinear;, score=0.719 total time=   0.0s\n",
      "[CV 4/5] END logisticregression__C=5, logisticregression__solver=liblinear;, score=0.718 total time=   0.0s\n",
      "[CV 5/5] END logisticregression__C=5, logisticregression__solver=liblinear;, score=0.731 total time=   0.0s\n",
      "[CV 1/5] END logisticregression__C=5, logisticregression__solver=newton-cg;, score=0.718 total time=   0.1s\n",
      "[CV 2/5] END logisticregression__C=5, logisticregression__solver=newton-cg;, score=0.713 total time=   0.1s\n",
      "[CV 3/5] END logisticregression__C=5, logisticregression__solver=newton-cg;, score=0.719 total time=   0.1s\n",
      "[CV 4/5] END logisticregression__C=5, logisticregression__solver=newton-cg;, score=0.718 total time=   0.0s\n",
      "[CV 5/5] END logisticregression__C=5, logisticregression__solver=newton-cg;, score=0.731 total time=   0.1s\n",
      "[CV 1/5] END logisticregression__C=5, logisticregression__solver=lbfgs;, score=0.718 total time=   0.0s\n",
      "[CV 2/5] END logisticregression__C=5, logisticregression__solver=lbfgs;, score=0.713 total time=   0.0s\n",
      "[CV 3/5] END logisticregression__C=5, logisticregression__solver=lbfgs;, score=0.719 total time=   0.0s\n",
      "[CV 4/5] END logisticregression__C=5, logisticregression__solver=lbfgs;, score=0.718 total time=   0.0s\n",
      "[CV 5/5] END logisticregression__C=5, logisticregression__solver=lbfgs;, score=0.731 total time=   0.0s\n",
      "[CV 1/5] END logisticregression__C=5, logisticregression__solver=sag;, score=0.718 total time=   0.1s\n",
      "[CV 2/5] END logisticregression__C=5, logisticregression__solver=sag;, score=0.713 total time=   0.1s\n",
      "[CV 3/5] END logisticregression__C=5, logisticregression__solver=sag;, score=0.719 total time=   0.1s\n",
      "[CV 4/5] END logisticregression__C=5, logisticregression__solver=sag;, score=0.718 total time=   0.1s\n",
      "[CV 5/5] END logisticregression__C=5, logisticregression__solver=sag;, score=0.731 total time=   0.1s\n"
     ]
    },
    {
     "name": "stderr",
     "output_type": "stream",
     "text": [
      "C:\\Users\\ishit\\Bank-Churn-Prediction\\server\\venv\\lib\\site-packages\\sklearn\\linear_model\\_sag.py:352: ConvergenceWarning: The max_iter was reached which means the coef_ did not converge\n",
      "  warnings.warn(\n"
     ]
    },
    {
     "name": "stdout",
     "output_type": "stream",
     "text": [
      "[CV 1/5] END logisticregression__C=5, logisticregression__solver=saga;, score=0.718 total time=   0.2s\n"
     ]
    },
    {
     "name": "stderr",
     "output_type": "stream",
     "text": [
      "C:\\Users\\ishit\\Bank-Churn-Prediction\\server\\venv\\lib\\site-packages\\sklearn\\linear_model\\_sag.py:352: ConvergenceWarning: The max_iter was reached which means the coef_ did not converge\n",
      "  warnings.warn(\n"
     ]
    },
    {
     "name": "stdout",
     "output_type": "stream",
     "text": [
      "[CV 2/5] END logisticregression__C=5, logisticregression__solver=saga;, score=0.713 total time=   0.3s\n"
     ]
    },
    {
     "name": "stderr",
     "output_type": "stream",
     "text": [
      "C:\\Users\\ishit\\Bank-Churn-Prediction\\server\\venv\\lib\\site-packages\\sklearn\\linear_model\\_sag.py:352: ConvergenceWarning: The max_iter was reached which means the coef_ did not converge\n",
      "  warnings.warn(\n"
     ]
    },
    {
     "name": "stdout",
     "output_type": "stream",
     "text": [
      "[CV 3/5] END logisticregression__C=5, logisticregression__solver=saga;, score=0.719 total time=   0.2s\n"
     ]
    },
    {
     "name": "stderr",
     "output_type": "stream",
     "text": [
      "C:\\Users\\ishit\\Bank-Churn-Prediction\\server\\venv\\lib\\site-packages\\sklearn\\linear_model\\_sag.py:352: ConvergenceWarning: The max_iter was reached which means the coef_ did not converge\n",
      "  warnings.warn(\n"
     ]
    },
    {
     "name": "stdout",
     "output_type": "stream",
     "text": [
      "[CV 4/5] END logisticregression__C=5, logisticregression__solver=saga;, score=0.718 total time=   0.2s\n",
      "[CV 5/5] END logisticregression__C=5, logisticregression__solver=saga;, score=0.731 total time=   0.3s\n"
     ]
    },
    {
     "name": "stderr",
     "output_type": "stream",
     "text": [
      "C:\\Users\\ishit\\Bank-Churn-Prediction\\server\\venv\\lib\\site-packages\\sklearn\\linear_model\\_sag.py:352: ConvergenceWarning: The max_iter was reached which means the coef_ did not converge\n",
      "  warnings.warn(\n"
     ]
    },
    {
     "data": {
      "text/plain": [
       "GridSearchCV(cv=5,\n",
       "             estimator=Pipeline(steps=[('columntransformer',\n",
       "                                        ColumnTransformer(transformers=[('minmaxscaler',\n",
       "                                                                         MinMaxScaler(),\n",
       "                                                                         [0, 3,\n",
       "                                                                          4, 5,\n",
       "                                                                          6, 7,\n",
       "                                                                          8,\n",
       "                                                                          9]),\n",
       "                                                                        ('onehotencoder',\n",
       "                                                                         OneHotEncoder(sparse=False),\n",
       "                                                                         [1,\n",
       "                                                                          2])])),\n",
       "                                       ('smote', SMOTE(random_state=10)),\n",
       "                                       ('logisticregression',\n",
       "                                        LogisticRegression(random_state=10))]),\n",
       "             param_grid={'logisticregression__C': [0.01, 0.05, 0.1, 0.5, 1, 5],\n",
       "                         'logisticregression__solver': ['liblinear',\n",
       "                                                        'newton-cg', 'lbfgs',\n",
       "                                                        'sag', 'saga']},\n",
       "             scoring='accuracy', verbose=3)"
      ]
     },
     "execution_count": 16,
     "metadata": {},
     "output_type": "execute_result"
    }
   ],
   "source": [
    "lr_grid.fit(X_train, y_train)"
   ]
  },
  {
   "cell_type": "code",
   "execution_count": 17,
   "metadata": {
    "tags": []
   },
   "outputs": [
    {
     "name": "stdout",
     "output_type": "stream",
     "text": [
      "{'logisticregression__C': 5, 'logisticregression__solver': 'liblinear'}\n"
     ]
    }
   ],
   "source": [
    "print(lr_grid.best_params_)"
   ]
  },
  {
   "cell_type": "code",
   "execution_count": 18,
   "metadata": {
    "tags": []
   },
   "outputs": [
    {
     "name": "stdout",
     "output_type": "stream",
     "text": [
      "0.7197142857142858\n"
     ]
    }
   ],
   "source": [
    "print(lr_grid.best_score_)"
   ]
  },
  {
   "cell_type": "code",
   "execution_count": 19,
   "metadata": {
    "tags": []
   },
   "outputs": [
    {
     "name": "stdout",
     "output_type": "stream",
     "text": [
      "Training Data Score: 0.722\n",
      "Testing Data Score: 0.707\n"
     ]
    }
   ],
   "source": [
    "print(f\"Training Data Score: {lr_grid.score(X_train, y_train)}\")\n",
    "print(f\"Testing Data Score: {lr_grid.score(X_test, y_test)}\")"
   ]
  },
  {
   "cell_type": "code",
   "execution_count": null,
   "metadata": {},
   "outputs": [],
   "source": [
    "'''represents the accuracy of the Logistic Regression model on the training and testing datasets.\n",
    "\n",
    "Training Data Score (0.722): The model correctly predicted the target variable for 72.2% of the training data. This indicates how well the model has learned from the training data.\n",
    "Testing Data Score (0.707): The model correctly predicted the target variable for 70.7% of the testing data. This shows how well the model generalizes to unseen data.\n",
    "What does this mean?\n",
    "Overfitting: Since the training data score is slightly higher than the testing score, the model may have learned the specific patterns in the training data but is not performing perfectly on new, unseen data (the test set). However, the gap is small, so this might not be a major concern.\n",
    "Model Performance: An accuracy score of around 70-72% is typically decent, but in banking and other domains, you might want to improve this further with more feature engineering, hyperparameter tuning, or more sophisticated models.'''"
   ]
  },
  {
   "cell_type": "code",
   "execution_count": 69,
   "metadata": {},
   "outputs": [
    {
     "data": {
      "image/png": "[encoded data removed]",
      "text/plain": [
       "<Figure size 600x200 with 1 Axes>"
      ]
     },
     "metadata": {},
     "output_type": "display_data"
    }
   ],
   "source": [
    "import matplotlib.pyplot as plt\n",
    "\n",
    "# Data\n",
    "scores = [lr_grid.score(X_train, y_train) * 100, lr_grid.score(X_test, y_test) * 100]\n",
    "labels = ['Training Data', 'Testing Data']\n",
    "\n",
    "# Create a figure with smaller size\n",
    "plt.figure(figsize=(6, 2))  # Adjust the width and height as needed\n",
    "\n",
    "# Plot with pastel pink color for the line\n",
    "plt.plot(labels, scores, marker='o', color='#60435F', linestyle='-', linewidth=3, markersize=8)\n",
    "\n",
    "# Set the Y-axis limits to center the line\n",
    "plt.ylim(min(scores) - 10, max(scores) + 10)  # Adjust this to make sure the line is centered within the plot\n",
    "\n",
    "# Add labels and title\n",
    "plt.ylabel('Accuracy (%)')\n",
    "plt.title('Model Accuracy: Training vs Testing')\n",
    "\n",
    "# Adding the text on the plot\n",
    "for i in range(len(scores)):\n",
    "    plt.text(labels[i], scores[i] + 2, f'{int(scores[i])}%', ha='center', va='bottom', fontsize=12)\n",
    "\n",
    "plt.show()\n"
   ]
  },
  {
   "cell_type": "code",
   "execution_count": 20,
   "metadata": {},
   "outputs": [
    {
     "name": "stdout",
     "output_type": "stream",
     "text": [
      "First 10 Predictions:   [0 0 0 0 1 1 0 0 0 0]\n",
      "First 10 Actual labels: [1, 0, 0, 0, 0, 1, 0, 0, 0, 0]\n"
     ]
    }
   ],
   "source": [
    "predictions = lr_grid.predict(X_test)\n",
    "print(f\"First 10 Predictions:   {predictions[:10]}\")\n",
    "print(f\"First 10 Actual labels: {y_test[:10].tolist()}\")"
   ]
  },
  {
   "cell_type": "code",
   "execution_count": null,
   "metadata": {},
   "outputs": [],
   "source": []
  },
  {
   "cell_type": "code",
   "execution_count": 21,
   "metadata": {},
   "outputs": [
    {
     "data": {
      "text/html": [
       "<div>\n",
       "<style scoped>\n",
       "    .dataframe tbody tr th:only-of-type {\n",
       "        vertical-align: middle;\n",
       "    }\n",
       "\n",
       "    .dataframe tbody tr th {\n",
       "        vertical-align: top;\n",
       "    }\n",
       "\n",
       "    .dataframe thead th {\n",
       "        text-align: right;\n",
       "    }\n",
       "</style>\n",
       "<table border=\"1\" class=\"dataframe\">\n",
       "  <thead>\n",
       "    <tr style=\"text-align: right;\">\n",
       "      <th></th>\n",
       "      <th>Prediction</th>\n",
       "      <th>Actual</th>\n",
       "    </tr>\n",
       "  </thead>\n",
       "  <tbody>\n",
       "    <tr>\n",
       "      <th>0</th>\n",
       "      <td>0</td>\n",
       "      <td>1</td>\n",
       "    </tr>\n",
       "    <tr>\n",
       "      <th>1</th>\n",
       "      <td>0</td>\n",
       "      <td>0</td>\n",
       "    </tr>\n",
       "    <tr>\n",
       "      <th>2</th>\n",
       "      <td>0</td>\n",
       "      <td>0</td>\n",
       "    </tr>\n",
       "    <tr>\n",
       "      <th>3</th>\n",
       "      <td>0</td>\n",
       "      <td>0</td>\n",
       "    </tr>\n",
       "    <tr>\n",
       "      <th>4</th>\n",
       "      <td>1</td>\n",
       "      <td>0</td>\n",
       "    </tr>\n",
       "    <tr>\n",
       "      <th>...</th>\n",
       "      <td>...</td>\n",
       "      <td>...</td>\n",
       "    </tr>\n",
       "    <tr>\n",
       "      <th>2995</th>\n",
       "      <td>0</td>\n",
       "      <td>0</td>\n",
       "    </tr>\n",
       "    <tr>\n",
       "      <th>2996</th>\n",
       "      <td>0</td>\n",
       "      <td>0</td>\n",
       "    </tr>\n",
       "    <tr>\n",
       "      <th>2997</th>\n",
       "      <td>0</td>\n",
       "      <td>0</td>\n",
       "    </tr>\n",
       "    <tr>\n",
       "      <th>2998</th>\n",
       "      <td>0</td>\n",
       "      <td>0</td>\n",
       "    </tr>\n",
       "    <tr>\n",
       "      <th>2999</th>\n",
       "      <td>0</td>\n",
       "      <td>0</td>\n",
       "    </tr>\n",
       "  </tbody>\n",
       "</table>\n",
       "<p>3000 rows × 2 columns</p>\n",
       "</div>"
      ],
      "text/plain": [
       "      Prediction  Actual\n",
       "0              0       1\n",
       "1              0       0\n",
       "2              0       0\n",
       "3              0       0\n",
       "4              1       0\n",
       "...          ...     ...\n",
       "2995           0       0\n",
       "2996           0       0\n",
       "2997           0       0\n",
       "2998           0       0\n",
       "2999           0       0\n",
       "\n",
       "[3000 rows x 2 columns]"
      ]
     },
     "execution_count": 21,
     "metadata": {},
     "output_type": "execute_result"
    }
   ],
   "source": [
    "pd.DataFrame({\"Prediction\": predictions, \"Actual\": y_test}).reset_index(drop=True)"
   ]
  },
  {
   "cell_type": "code",
   "execution_count": 22,
   "metadata": {},
   "outputs": [
    {
     "name": "stdout",
     "output_type": "stream",
     "text": [
      "[[1708  681]\n",
      " [ 198  413]]\n"
     ]
    }
   ],
   "source": [
    "cm = confusion_matrix(y_test, predictions)\n",
    "print(cm)"
   ]
  },
  {
   "cell_type": "code",
   "execution_count": null,
   "metadata": {},
   "outputs": [],
   "source": []
  },
  {
   "cell_type": "code",
   "execution_count": 23,
   "metadata": {},
   "outputs": [
    {
     "name": "stdout",
     "output_type": "stream",
     "text": [
      "[[0.71 0.29]\n",
      " [0.32 0.68]]\n"
     ]
    }
   ],
   "source": [
    "cm = np.around(cm / cm.sum(axis=1)[:, np.newaxis], 2)\n",
    "print(cm)"
   ]
  },
  {
   "cell_type": "code",
   "execution_count": 68,
   "metadata": {},
   "outputs": [
    {
     "data": {
      "image/png": "[encoded data removed]",
      "text/plain": [
       "<Figure size 600x500 with 2 Axes>"
      ]
     },
     "metadata": {},
     "output_type": "display_data"
    }
   ],
   "source": [
    "# Ensure you are predicting on the correct dataset (X_test)\n",
    "predictions = lr_grid.predict(X_test)\n",
    "\n",
    "# Confusion matrix calculation\n",
    "from sklearn.metrics import confusion_matrix\n",
    "import numpy as np\n",
    "import seaborn as sns\n",
    "import matplotlib.pyplot as plt\n",
    "import matplotlib.colors as mcolors\n",
    "\n",
    "# Confusion matrix calculation\n",
    "cm = confusion_matrix(y_test, predictions)\n",
    "\n",
    "# Normalize the confusion matrix by rows (so each row sums to 1)\n",
    "cm = np.around(cm / cm.sum(axis=1)[:, np.newaxis], 2)\n",
    "\n",
    "# Create a custom colormap (purple shade: #60435F)\n",
    "purple_cmap = mcolors.LinearSegmentedColormap.from_list('purple_cmap', ['#ffffff', '#60435F'])\n",
    "\n",
    "# Plotting the normalized confusion matrix with custom color\n",
    "plt.figure(figsize=(6, 5))\n",
    "sns.heatmap(cm, annot=True, fmt='.2f', cmap=purple_cmap, xticklabels=['Predicted 0', 'Predicted 1'], yticklabels=['Actual 0', 'Actual 1'], cbar=True)\n",
    "\n",
    "# Adding labels and title\n",
    "plt.title('Normalized Confusion Matrix')\n",
    "plt.xlabel('Predicted Labels')\n",
    "plt.ylabel('Actual Labels')\n",
    "\n",
    "plt.show()\n"
   ]
  },
  {
   "cell_type": "code",
   "execution_count": 24,
   "metadata": {},
   "outputs": [
    {
     "name": "stdout",
     "output_type": "stream",
     "text": [
      "              precision    recall  f1-score   support\n",
      "\n",
      "           0       0.90      0.71      0.80      2389\n",
      "           1       0.38      0.68      0.48       611\n",
      "\n",
      "    accuracy                           0.71      3000\n",
      "   macro avg       0.64      0.70      0.64      3000\n",
      "weighted avg       0.79      0.71      0.73      3000\n",
      "\n"
     ]
    }
   ],
   "source": [
    "print(classification_report(y_test, predictions))"
   ]
  },
  {
   "cell_type": "code",
   "execution_count": 97,
   "metadata": {},
   "outputs": [
    {
     "data": {
      "image/png": "[encoded data removed]",
      "text/plain": [
       "<Figure size 1000x600 with 1 Axes>"
      ]
     },
     "metadata": {},
     "output_type": "display_data"
    }
   ],
   "source": [
    "import matplotlib.pyplot as plt\n",
    "import numpy as np\n",
    "from sklearn.metrics import classification_report\n",
    "\n",
    "# Sample classification report data\n",
    "report = classification_report(y_test, predictions, output_dict=True)\n",
    "\n",
    "# Extract precision, recall, and f1-score for each class\n",
    "precision_class_0 = report['0']['precision']\n",
    "recall_class_0 = report['0']['recall']\n",
    "f1_class_0 = report['0']['f1-score']\n",
    "\n",
    "precision_class_1 = report['1']['precision']\n",
    "recall_class_1 = report['1']['recall']\n",
    "f1_class_1 = report['1']['f1-score']\n",
    "\n",
    "# Set up the positions for each bar\n",
    "metrics = ['Precision', 'Recall', 'F1-Score']\n",
    "class_0_values = [precision_class_0, recall_class_0, f1_class_0]\n",
    "class_1_values = [precision_class_1, recall_class_1, f1_class_1]\n",
    "\n",
    "# Bar colors\n",
    "class_0_color = '#60435F'  # Purple for class 0\n",
    "class_1_color = '#A5B452'  # Olive for class 1\n",
    "\n",
    "# Set the figure size\n",
    "plt.figure(figsize=(10, 6))\n",
    "\n",
    "# Create horizontal bars\n",
    "bar_width = 0.2  # Reduced width of bars\n",
    "index = np.arange(len(metrics))  # Position for each metric\n",
    "\n",
    "# Plot bars for class 0 and class 1, side by side\n",
    "bars_class_0 = plt.barh(index - bar_width / 2, class_0_values, bar_width, label='Customers who did not churn.', color=class_0_color)\n",
    "bars_class_1 = plt.barh(index + bar_width / 2, class_1_values, bar_width, label='Customers who did churn.', color=class_1_color)\n",
    "\n",
    "# Add labels and title\n",
    "plt.xlabel('Score')\n",
    "plt.title('Classification Report: Precision, Recall, F1-Score by Class')\n",
    "plt.yticks(index, metrics)  # Set y-axis to show metrics\n",
    "plt.legend()\n",
    "\n",
    "# Adding text labels for the values on top of the bars\n",
    "for i, bar in enumerate(bars_class_0):\n",
    "    # Add value for class 0\n",
    "    plt.text(bar.get_width() + 0.01, bar.get_y() + bar.get_height() / 2, \n",
    "             f'{class_0_values[i]:.2f}', va='center', ha='left', fontsize=12, color='black')\n",
    "\n",
    "for i, bar in enumerate(bars_class_1):\n",
    "    # Add value for class 1\n",
    "    plt.text(bar.get_width() + 0.01, bar.get_y() + bar.get_height() / 2, \n",
    "             f'{class_1_values[i]:.2f}', va='center', ha='left', fontsize=12, color='black')\n",
    "\n",
    "# Display the plot\n",
    "plt.show()\n"
   ]
  },
  {
   "cell_type": "code",
   "execution_count": 25,
   "metadata": {},
   "outputs": [],
   "source": [
    "pred = lr_grid.predict(X_test[:1])"
   ]
  },
  {
   "cell_type": "code",
   "execution_count": 26,
   "metadata": {},
   "outputs": [
    {
     "name": "stdout",
     "output_type": "stream",
     "text": [
      "Predicted classes: [0]\n",
      "Actual Labels: [1]\n"
     ]
    }
   ],
   "source": [
    "print(f\"Predicted classes: {pred}\")\n",
    "print(f\"Actual Labels: {list(y_test[:1])}\")"
   ]
  },
  {
   "cell_type": "code",
   "execution_count": 27,
   "metadata": {},
   "outputs": [
    {
     "data": {
      "text/plain": [
       "['../models/nate_logistic_regression.sav']"
      ]
     },
     "execution_count": 27,
     "metadata": {},
     "output_type": "execute_result"
    }
   ],
   "source": [
    "import joblib\n",
    "\n",
    "filename = '../models/nate_logistic_regression.sav'\n",
    "joblib.dump(lr_grid, filename)"
   ]
  },
  {
   "cell_type": "code",
   "execution_count": 28,
   "metadata": {},
   "outputs": [
    {
     "name": "stdout",
     "output_type": "stream",
     "text": [
      "0.707\n"
     ]
    }
   ],
   "source": [
    "lr_model = joblib.load(filename)\n",
    "print(lr_model.score(X_test, y_test))"
   ]
  },
  {
   "cell_type": "markdown",
   "metadata": {},
   "source": [
    "### Predict class for new data"
   ]
  },
  {
   "cell_type": "code",
   "execution_count": 29,
   "metadata": {
    "tags": []
   },
   "outputs": [
    {
     "data": {
      "text/plain": [
       "array([[638, 'France', 'Male', 36, 6, 188455.19, 1, 0, 0, 47031.4]],\n",
       "      dtype=object)"
      ]
     },
     "execution_count": 29,
     "metadata": {},
     "output_type": "execute_result"
    }
   ],
   "source": [
    "# Let's use the first X_test record as new data\n",
    "X_test[:1]"
   ]
  },
  {
   "cell_type": "code",
   "execution_count": 30,
   "metadata": {
    "tags": []
   },
   "outputs": [],
   "source": [
    "pred_new = lr_grid.predict(X_test[:1])"
   ]
  },
  {
   "cell_type": "code",
   "execution_count": 31,
   "metadata": {
    "tags": []
   },
   "outputs": [
    {
     "name": "stdout",
     "output_type": "stream",
     "text": [
      "Predicted classes: [0]\n",
      "Actual Labels: [1]\n"
     ]
    }
   ],
   "source": [
    "print(f\"Predicted classes: {pred_new}\")\n",
    "print(f\"Actual Labels: {list(y_test[:1])}\")"
   ]
  },
  {
   "cell_type": "code",
   "execution_count": 32,
   "metadata": {
    "tags": []
   },
   "outputs": [
    {
     "ename": "AttributeError",
     "evalue": "'numpy.ndarray' object has no attribute 'values'",
     "output_type": "error",
     "traceback": [
      "\u001b[1;31m---------------------------------------------------------------------------\u001b[0m",
      "\u001b[1;31mAttributeError\u001b[0m                            Traceback (most recent call last)",
      "Cell \u001b[1;32mIn[32], line 1\u001b[0m\n\u001b[1;32m----> 1\u001b[0m \u001b[43mX_test\u001b[49m\u001b[43m[\u001b[49m\u001b[43m:\u001b[49m\u001b[38;5;241;43m1\u001b[39;49m\u001b[43m]\u001b[49m\u001b[38;5;241;43m.\u001b[39;49m\u001b[43mvalues\u001b[49m\n",
      "\u001b[1;31mAttributeError\u001b[0m: 'numpy.ndarray' object has no attribute 'values'"
     ]
    }
   ],
   "source": [
    "X_test[:1].values"
   ]
  },
  {
   "cell_type": "code",
   "execution_count": null,
   "metadata": {
    "tags": []
   },
   "outputs": [],
   "source": [
    "pred_new1 = lr_grid.predict(X_test[:1])\n",
    "pred_new1"
   ]
  },
  {
   "cell_type": "code",
   "execution_count": 70,
   "metadata": {},
   "outputs": [
    {
     "data": {
      "image/png": "[encoded data removed]",
      "text/plain": [
       "<Figure size 1200x800 with 1 Axes>"
      ]
     },
     "metadata": {},
     "output_type": "display_data"
    }
   ],
   "source": [
    "def plot_feature_importance(model, original_num_features, original_cat_features, X_train):\n",
    "    \"\"\"\n",
    "    Plots a feature importance graph based on logistic regression coefficients.\n",
    "\n",
    "    Parameters:\n",
    "    model : Trained logistic regression model (GridSearchCV object)\n",
    "    original_num_features : List of original numerical feature names\n",
    "    original_cat_features : List of original categorical feature names\n",
    "    X_train : Training data (used to fit the preprocessor)\n",
    "    \"\"\"\n",
    "    # Access the pipeline\n",
    "    pipeline = model.best_estimator_\n",
    "\n",
    "    # Extract the preprocessor and logistic regression components\n",
    "    preprocessor = pipeline.named_steps['columntransformer']\n",
    "    logistic_model = pipeline.named_steps['logisticregression']\n",
    "\n",
    "    # Get the transformed feature names from the preprocessor\n",
    "    # Use `get_feature_names_out` for one-hot encoded features\n",
    "    num_feature_names = original_num_features\n",
    "    cat_feature_names = preprocessor.named_transformers_['onehotencoder'].get_feature_names_out(original_cat_features)\n",
    "\n",
    "    # Combine numerical and one-hot encoded categorical feature names\n",
    "    all_feature_names = np.concatenate([num_feature_names, cat_feature_names])\n",
    "\n",
    "    # Extract coefficients and normalize them\n",
    "    coefficients = np.abs(logistic_model.coef_).flatten()\n",
    "    importance = 100 * (coefficients / np.sum(coefficients))\n",
    "\n",
    "    # Sort features by importance\n",
    "    sorted_idx = np.argsort(importance)[::-1]\n",
    "    sorted_features = all_feature_names[sorted_idx]\n",
    "    sorted_importance = importance[sorted_idx]\n",
    "\n",
    "    # Plot the feature importance\n",
    "    plt.figure(figsize=(12, 8))\n",
    "    plt.bar(sorted_features, sorted_importance, color='#60435F')\n",
    "    plt.xlabel(\"Features\")\n",
    "    plt.ylabel(\"Importance (%)\")\n",
    "    plt.title(\"Feature Importance in Logistic Regression\")\n",
    "    plt.xticks(rotation=45, ha='right')\n",
    "    plt.tight_layout()\n",
    "    plt.show()\n",
    "\n",
    "\n",
    "# Call the function with necessary arguments\n",
    "plot_feature_importance(lr_grid, num_columns, cat_columns, X_train)\n"
   ]
  },
  {
   "cell_type": "code",
   "execution_count": 71,
   "metadata": {},
   "outputs": [
    {
     "data": {
      "image/png": "[encoded data removed]",
      "text/plain": [
       "<Figure size 800x600 with 1 Axes>"
      ]
     },
     "metadata": {},
     "output_type": "display_data"
    }
   ],
   "source": [
    "from sklearn.metrics import roc_curve, auc\n",
    "\n",
    "fpr, tpr, thresholds = roc_curve(y_test, lr_grid.predict_proba(X_test)[:, 1])\n",
    "roc_auc = auc(fpr, tpr)\n",
    "\n",
    "plt.figure(figsize=(8, 6))\n",
    "plt.plot(fpr, tpr, color='darkorange', lw=2, label='ROC curve (area = %0.2f)' % roc_auc)\n",
    "plt.plot([0, 1], [0, 1], color='#60435F', lw=2, linestyle='--')\n",
    "plt.xlim([0.0, 1.0])\n",
    "plt.ylim([0.0, 1.05])\n",
    "plt.xlabel('False Positive Rate')\n",
    "plt.ylabel('True Positive Rate')\n",
    "plt.title('Receiver Operating Characteristic')\n",
    "plt.legend(loc=\"lower right\")\n",
    "plt.show()\n"
   ]
  },
  {
   "cell_type": "code",
   "execution_count": 72,
   "metadata": {},
   "outputs": [
    {
     "data": {
      "image/png": "[encoded data removed]",
      "text/plain": [
       "<Figure size 800x600 with 1 Axes>"
      ]
     },
     "metadata": {},
     "output_type": "display_data"
    }
   ],
   "source": [
    "from sklearn.metrics import precision_recall_curve, average_precision_score\n",
    "\n",
    "precision, recall, _ = precision_recall_curve(y_test, lr_grid.predict_proba(X_test)[:, 1])\n",
    "pr_auc = average_precision_score(y_test, lr_grid.predict_proba(X_test)[:, 1])\n",
    "\n",
    "plt.figure(figsize=(8, 6))\n",
    "plt.plot(recall, precision, color='#60435F', lw=2, label='PR curve (AUC = %0.2f)' % pr_auc)\n",
    "plt.xlabel('Recall')\n",
    "plt.ylabel('Precision')\n",
    "plt.title('Precision-Recall Curve')\n",
    "plt.legend(loc=\"lower left\")\n",
    "plt.show()\n"
   ]
  },
  {
   "cell_type": "code",
   "execution_count": null,
   "metadata": {},
   "outputs": [],
   "source": []
  },
  {
   "cell_type": "code",
   "execution_count": null,
   "metadata": {},
   "outputs": [],
   "source": []
  },
  {
   "cell_type": "code",
   "execution_count": null,
   "metadata": {},
   "outputs": [],
   "source": []
  }
 ],
 "metadata": {
  "kernelspec": {
   "display_name": "Python 3 (ipykernel)",
   "language": "python",
   "name": "python3"
  },
  "language_info": {
   "codemirror_mode": {
    "name": "ipython",
    "version": 3
   },
   "file_extension": ".py",
   "mimetype": "text/x-python",
   "name": "python",
   "nbconvert_exporter": "python",
   "pygments_lexer": "ipython3",
   "version": "3.10.8"
  }
 },
 "nbformat": 4,
 "nbformat_minor": 4
}
